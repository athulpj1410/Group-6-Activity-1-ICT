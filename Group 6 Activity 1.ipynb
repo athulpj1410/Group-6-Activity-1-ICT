{
 "cells": [
  {
   "cell_type": "markdown",
   "metadata": {},
   "source": [
    "# <font color=\"ff0066\" size=50px >Group 6</font>"
   ]
  },
  {
   "cell_type": "markdown",
   "metadata": {},
   "source": [
    "## 1. Complete the following code to find the area of an equilateral triangle. Output should be as displayed"
   ]
  },
  {
   "cell_type": "code",
   "execution_count": 1,
   "metadata": {},
   "outputs": [
    {
     "name": "stdout",
     "output_type": "stream",
     "text": [
      "Enter the side of the equilateral triangle: 5\n",
      "10.83\n"
     ]
    }
   ],
   "source": [
    "import math\n",
    "side = float(input(\"Enter the side of the equilateral triangle: \"))\n",
    "area = ((math.sqrt(3))/4)*pow(side,2)\n",
    "print(round(area,2))"
   ]
  },
  {
   "cell_type": "markdown",
   "metadata": {},
   "source": [
    "## 2. Write a program to count the number of each characters in a string"
   ]
  },
  {
   "cell_type": "code",
   "execution_count": 3,
   "metadata": {},
   "outputs": [
    {
     "name": "stdout",
     "output_type": "stream",
     "text": [
      "Enter a string \n",
      "malayalam\n",
      "Chareacter- m   Count: 2\n",
      "Chareacter- l   Count: 2\n",
      "Chareacter- a   Count: 4\n",
      "Chareacter- y   Count: 1\n"
     ]
    }
   ],
   "source": [
    "string = input(\"Enter a string \\n\")\n",
    "s = set(string)\n",
    "for i in s:\n",
    "    print(\"Chareacter-\",i,\"  Count:\",string.count(i))"
   ]
  },
  {
   "cell_type": "markdown",
   "metadata": {},
   "source": [
    "## 3. Write a program to find the area and perimeter of a rectangle using functions"
   ]
  },
  {
   "cell_type": "code",
   "execution_count": 4,
   "metadata": {},
   "outputs": [
    {
     "name": "stdout",
     "output_type": "stream",
     "text": [
      "Enter the length of Rectangle \n",
      "5\n",
      "Enter the breadth of Reactangle \n",
      " 3\n",
      "Area of the rectangle =  15\n",
      "Perimeter of the rectangle = 16\n"
     ]
    }
   ],
   "source": [
    "def area(l,b):\n",
    "    print(\"Area of the rectangle = \",l*b)\n",
    "def perimeter(l,b):\n",
    "    print(\"Perimeter of the rectangle =\",2*(l+b))\n",
    "l=int(input(\"Enter the length of Rectangle \\n\"))\n",
    "b=int(input(\"Enter the breadth of Reactangle \\n \"))\n",
    "area(l,b)\n",
    "perimeter(l,b)"
   ]
  },
  {
   "cell_type": "markdown",
   "metadata": {},
   "source": [
    "## 4. Write a program to print the fibonacci series till a specified number"
   ]
  },
  {
   "cell_type": "code",
   "execution_count": 12,
   "metadata": {},
   "outputs": [
    {
     "name": "stdout",
     "output_type": "stream",
     "text": [
      "Enter the number upto which fibanocci series is to be printed 20\n",
      "0 1 1 2 3 5 8 13 \n"
     ]
    }
   ],
   "source": [
    "def fibonacci(n):\n",
    "    a=0\n",
    "    b=1\n",
    "    if(n<=0):\n",
    "        print(\"Incorrect input\")\n",
    "    elif(n==1):\n",
    "        print(a,end=\" \")\n",
    "    else:\n",
    "        f=[0,1]\n",
    "        while f[-1]<=n:\n",
    "            f.append(f[-1]+f[-2])\n",
    "        f.pop()\n",
    "        for i in f:\n",
    "            print(i,end=\" \")\n",
    "        print(\"\")\n",
    "    \n",
    "            \n",
    "a=int(input(\"Enter the number upto which fibanocci series is to be printed \"))    \n",
    "fibonacci(a)"
   ]
  },
  {
   "cell_type": "markdown",
   "metadata": {},
   "source": [
    "## 5. Complete the following code to find the minimum of 3 number using conditional statements. Output should be as displayed"
   ]
  },
  {
   "cell_type": "code",
   "execution_count": 7,
   "metadata": {},
   "outputs": [
    {
     "name": "stdout",
     "output_type": "stream",
     "text": [
      "Enter three numbers followed by  : 7 -5 20\n",
      "First number : 7\n",
      "Second number : -5\n",
      "Third number : 20\n",
      "-5  is smallest\n"
     ]
    }
   ],
   "source": [
    "a,b,c = input(\"Enter three numbers followed by  : \").split()\n",
    "\n",
    "print(\"First number :\",a)\n",
    "print(\"Second number :\",b)\n",
    "print(\"Third number :\",c)\n",
    "if a==b==c:\n",
    "    print(\"Entered numbers are equal!!!\")\n",
    "elif a < b and a<c:\n",
    "    print(a,\" is smallest\")\n",
    "elif b <a and b<c:\n",
    "    print(b,\" is smallest\")\n",
    "else:\n",
    "    print(c,\" is smallest\")"
   ]
  },
  {
   "cell_type": "markdown",
   "metadata": {},
   "source": [
    "## 6. Write a program to print star pyramind. The number of rows should be taken as input from the user"
   ]
  },
  {
   "cell_type": "code",
   "execution_count": 8,
   "metadata": {},
   "outputs": [
    {
     "name": "stdout",
     "output_type": "stream",
     "text": [
      "Enter the number of rows7\n",
      "* \n",
      "\n",
      "* * \n",
      "\n",
      "* * * \n",
      "\n",
      "* * * * \n",
      "\n",
      "* * * * * \n",
      "\n",
      "* * * * * * \n",
      "\n",
      "* * * * * * * \n",
      "\n",
      "None\n"
     ]
    }
   ],
   "source": [
    "def star_pyramid(n):\n",
    "    for i in range(0, n):\n",
    "        for j in range(0, i+1):\n",
    "            print(\"* \",end=\"\")\n",
    "        print(\"\\n\") \n",
    " \n",
    "a =int(input(\"Enter the number of rows\"))\n",
    "print(star_pyramid(a))"
   ]
  },
  {
   "cell_type": "markdown",
   "metadata": {},
   "source": [
    "## 7. Complete the following code to convert hour into seconds. Output should be as displayed"
   ]
  },
  {
   "cell_type": "code",
   "execution_count": 9,
   "metadata": {},
   "outputs": [
    {
     "name": "stdout",
     "output_type": "stream",
     "text": [
      "Enter time in Hours :5\n",
      "5  Hour is equal to 18000  Seconds\n"
     ]
    }
   ],
   "source": [
    "def to_seconds(t):\n",
    "    t=t*60*60\n",
    "    return t\n",
    "time_in_hours = int(input(\"Enter time in Hours :\"))\n",
    "print(time_in_hours ,\" Hour is equal to\" ,to_seconds(time_in_hours) ,\" Seconds\")"
   ]
  },
  {
   "cell_type": "markdown",
   "metadata": {},
   "source": [
    "## 8. Write a program to print multiplication table as below"
   ]
  },
  {
   "cell_type": "code",
   "execution_count": 10,
   "metadata": {},
   "outputs": [
    {
     "name": "stdout",
     "output_type": "stream",
     "text": [
      "Enter a number to print the multiplication table : 8\n",
      "1  x  8  =  8\n",
      "2  x  8  =  16\n",
      "3  x  8  =  24\n",
      "4  x  8  =  32\n",
      "5  x  8  =  40\n",
      "6  x  8  =  48\n",
      "7  x  8  =  56\n",
      "8  x  8  =  64\n",
      "9  x  8  =  72\n",
      "10  x  8  =  80\n"
     ]
    }
   ],
   "source": [
    "n=int(input(\"Enter a number to print the multiplication table : \"))\n",
    "for i in range(1,11):\n",
    "    print(i,\" x \",n,\" = \",i*n)"
   ]
  },
  {
   "cell_type": "markdown",
   "metadata": {},
   "source": [
    "## 9. Write a program to take your 5 favorite food as list and print each as 'I like Biriyani'"
   ]
  },
  {
   "cell_type": "code",
   "execution_count": 11,
   "metadata": {},
   "outputs": [
    {
     "name": "stdout",
     "output_type": "stream",
     "text": [
      " Enter your favorite 5 food items \n",
      "Dosa Chapathi Paneer Idli Rice\n",
      "I like  Dosa\n",
      "I like  Chapathi\n",
      "I like  Paneer\n",
      "I like  Idli\n",
      "I like  Rice\n"
     ]
    }
   ],
   "source": [
    "food = list(map(str,input(\" Enter your favorite 5 food items \\n\").split()))\n",
    "for i in food:\n",
    "    print(\"I like \",i)"
   ]
  },
  {
   "cell_type": "code",
   "execution_count": null,
   "metadata": {},
   "outputs": [],
   "source": []
  }
 ],
 "metadata": {
  "kernelspec": {
   "display_name": "Python 3 (ipykernel)",
   "language": "python",
   "name": "python3"
  },
  "language_info": {
   "codemirror_mode": {
    "name": "ipython",
    "version": 3
   },
   "file_extension": ".py",
   "mimetype": "text/x-python",
   "name": "python",
   "nbconvert_exporter": "python",
   "pygments_lexer": "ipython3",
   "version": "3.7.11"
  }
 },
 "nbformat": 4,
 "nbformat_minor": 4
}
